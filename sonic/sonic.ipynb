{
 "cells": [
  {
   "cell_type": "code",
   "execution_count": null,
   "metadata": {
    "vscode": {
     "languageId": "ruby"
    }
   },
   "outputs": [],
   "source": [
    "# Welcome to Sonic Pi\n",
    "\n",
    "# Coded by Sam Aaron\n",
    "\n",
    "live_loop :haunted do\n",
    "    sample :perc_bell, rate: rrand(-1.5, 1.5)\n",
    "    sleep rrand(0.1, 2)\n",
    "end"
   ]
  }
 ],
 "metadata": {
  "language_info": {
   "name": "python"
  }
 },
 "nbformat": 4,
 "nbformat_minor": 2
}
